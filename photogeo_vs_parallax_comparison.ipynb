{
 "cells": [
  {
   "cell_type": "markdown",
   "id": "ca962d7b-b42d-4ce8-920c-8f212e95523f",
   "metadata": {},
   "source": [
    "# Packages loading and general environment setting"
   ]
  },
  {
   "cell_type": "code",
   "execution_count": 1,
   "id": "b4a8a074-38af-4f4e-8b9e-29b712fbfb40",
   "metadata": {},
   "outputs": [],
   "source": [
    "# We import the rest of the cool stuff\n",
    "import numpy as np\n",
    "import pandas as pd\n",
    "import warnings\n",
    "from scipy import interpolate\n",
    "from astropy import coordinates\n",
    "from astropy.coordinates import Galactic\n",
    "import astropy.units as u\n",
    "import mass_photometry_tools as massPhoto\n",
    "from astropy.coordinates import LSR\n",
    "from astropy.coordinates import SkyCoord\n",
    "from zero_point import zpt\n",
    "from gaiaunlimited.selectionfunctions import DR3RVSSelectionFunction\n",
    "from gaiaunlimited.selectionfunctions import DR3SelectionFunctionTCG_hpx7\n",
    "from joblib import Parallel, delayed\n",
    "\n",
    "import matplotlib.pyplot as plt\n",
    "import matplotlib as mpl\n",
    "import seaborn as sns\n",
    "\n",
    "sns.set_context(\"talk\")\n",
    "mpl.style.use(\"seaborn\")\n",
    "sns.set_context(\"paper\",font_scale=1.5)\n",
    "sns.set_style(\"whitegrid\")\n",
    "warnings.filterwarnings(\"ignore\")\n",
    "# Warnings are anoying... we do not like warnings...\n",
    "warnings.filterwarnings(\"ignore\")"
   ]
  },
  {
   "cell_type": "markdown",
   "id": "fe9a1fe6-4c4a-4128-bfe9-80f7cefb9d49",
   "metadata": {},
   "source": [
    "# Isochrone building:"
   ]
  },
  {
   "cell_type": "code",
   "execution_count": 2,
   "id": "b741fb9e-fbdf-4b69-884c-b06424e746c9",
   "metadata": {},
   "outputs": [],
   "source": [
    "# ages isochrones generation (SP locus generation is based on 100Myr isochrone, which is for ages[0]):\n",
    "BR_to_MG_interps          = []\n",
    "MG_to_BR_interps          = []\n",
    "ages = np.arange(1e7,11e7,1e7).tolist()\n",
    "for i in np.arange(0,len(ages),1):\n",
    "    age                              = ages[i]\n",
    "    BR_to_MG_interp, MG_to_BR_interp = massPhoto.iso_interpolation_generator(age)\n",
    "    BR_to_MG_interps                 = BR_to_MG_interps+[BR_to_MG_interp]\n",
    "    MG_to_BR_interps                 = MG_to_BR_interps+[MG_to_BR_interp]\n",
    "    \n",
    "MS_BR_to_MG_interp                   = BR_to_MG_interps[ages.index(100e6)]\n",
    "MS_MG_to_BR_interp                   = MG_to_BR_interps[ages.index(100e6)]\n",
    "BR_interval                      = np.arange(MS_BR_to_MG_interp.x.min(),MS_BR_to_MG_interp.x.max()-0.001,0.001)\n",
    "\n",
    "MS_isochrone = pd.DataFrame({'BR':BR_interval,'MG':MS_BR_to_MG_interp(BR_interval)})"
   ]
  },
  {
   "cell_type": "markdown",
   "id": "def000e0-2b7d-4ac7-8305-8f5f89316f0d",
   "metadata": {},
   "source": [
    "# Gaia DR3 data loading"
   ]
  },
  {
   "cell_type": "code",
   "execution_count": 3,
   "id": "21708db3-4d95-4f28-b114-8a8f627827f5",
   "metadata": {},
   "outputs": [],
   "source": [
    "# This is all of GDR3 MS and PMS cleaned\n",
    "gdr3MSPMS       = pd.read_csv('builded_or_modified_cat/gdr3MSPMS.csv')\n",
    "\n",
    "# This is all of GDR3 MS with RVs cleaned\n",
    "gdr3RVMSPMS     = pd.read_csv('builded_or_modified_cat/gdr3RVMSPMS.csv')\n",
    "\n",
    "# This is all GDR3 in 200pc using photogeometric distances\n",
    "gdr3pg = pd.read_csv(\"input_cat/GDR3_hi_photogeoD_200pc.csv\")"
   ]
  },
  {
   "cell_type": "markdown",
   "id": "0a820cd1-86e3-4584-a42f-9840954ea7cc",
   "metadata": {},
   "source": [
    "## General photometric and kinematic calculations"
   ]
  },
  {
   "cell_type": "code",
   "execution_count": 4,
   "id": "bf3b45d3-39fe-4181-878b-c6cfe6308f3a",
   "metadata": {},
   "outputs": [],
   "source": [
    "# Absolute magnitude and color calculation:\n",
    "MG              = gdr3pg[\"phot_g_mean_mag\"]+5-5*np.log10(gdr3pg[\"r_hi_photogeo\"])\n",
    "BR              = gdr3pg[\"phot_bp_mean_mag\"]-gdr3pg[\"phot_rp_mean_mag\"]\n",
    "\n",
    "# We join the new photometric info to the rest of the data:\n",
    "photo           = pd.concat([MG,BR],axis=1)\n",
    "photo.columns   = [\"MG\",\"BR\"]\n",
    "gdr3pg          = pd.concat([gdr3pg,photo],axis=1)"
   ]
  },
  {
   "cell_type": "code",
   "execution_count": 5,
   "id": "586b3751-1973-446d-81c7-961b0e8b8037",
   "metadata": {},
   "outputs": [],
   "source": [
    "gdr3pg = gdr3pg[(gdr3pg.BR.isnull().values == False) &\n",
    "                (gdr3pg.MG.isnull().values == False) &\n",
    "                (gdr3pg.ruwe < 1.4) &\n",
    "                (0.039*gdr3pg.BR+0.001 < np.log10(gdr3pg.phot_bp_rp_excess_factor)) &\n",
    "                (0.039*gdr3pg.BR+0.12 > np.log10(gdr3pg.phot_bp_rp_excess_factor))]"
   ]
  },
  {
   "cell_type": "markdown",
   "id": "9e533c56-f77d-45d1-a13b-f1a23300c0a4",
   "metadata": {},
   "source": [
    "## Final GDR3PG sub-samples"
   ]
  },
  {
   "cell_type": "code",
   "execution_count": 6,
   "id": "e473499d-5cb2-4777-a657-1605bc4587a0",
   "metadata": {},
   "outputs": [],
   "source": [
    "# We discard stars below the MS locus\n",
    "gdr3pgMSPMS = gdr3pg[gdr3pg[\"MG\"] < 3*(gdr3pg[\"BR\"])+3.5]\n",
    "\n",
    "# We discard post-MS stars and get the MS + PMS\n",
    "gdr3pgMSPMS = gdr3pgMSPMS[((gdr3pgMSPMS[\"BR\"] > 6/5) & (gdr3pgMSPMS[\"MG\"] > -0.5*(gdr3pgMSPMS[\"BR\"])+4)) |\n",
    "                          ((gdr3pgMSPMS[\"BR\"] <= 6/5) & (gdr3pgMSPMS[\"MG\"] > 5*(gdr3pgMSPMS[\"BR\"])-3)) |\n",
    "                          (gdr3pgMSPMS[\"BR\"] < 0.7)]\n",
    "\n",
    "# With a certain tolerance we discard the PMS to keep only the MS\n",
    "gdr3pgMS = massPhoto.isochroneSelector(data = gdr3pgMSPMS,\n",
    "                                       age = 100e6,\n",
    "                                       deltaMag = [1,1],\n",
    "                                       dataMagName = 'MG',\n",
    "                                       dataColorNames = 'BR')\n",
    "\n",
    "# We define from the previous sub-samples new sub-samples with RVs\n",
    "gdr3pgRVMSPMS = gdr3pgMSPMS[gdr3pgMSPMS.radial_velocity.isnull().values == False]\n",
    "gdr3pgRVMS    = gdr3pgMS[gdr3pgMS.radial_velocity.isnull().values == False]"
   ]
  },
  {
   "cell_type": "code",
   "execution_count": 7,
   "id": "13fc80ed-9da5-407f-88ab-3d81688de457",
   "metadata": {},
   "outputs": [],
   "source": [
    "gdr3pgMSPMS   = gdr3pgMSPMS.set_index(gdr3pgMSPMS.source_id)\n",
    "gdr3pgRVMSPMS = gdr3pgRVMSPMS.set_index(gdr3pgRVMSPMS.source_id)\n",
    "gdr3MSPMS     = gdr3MSPMS.set_index(gdr3MSPMS.source_id)\n",
    "gdr3RVMSPMS   = gdr3RVMSPMS.set_index(gdr3RVMSPMS.source_id)\n",
    "\n",
    "MSPMSRVmatch  = pd.concat([gdr3RVMSPMS,gdr3pgRVMSPMS],axis=1,join='inner')\n",
    "MSPMSmatch    = pd.concat([gdr3MSPMS,gdr3pgMSPMS],axis=1,join='inner')"
   ]
  },
  {
   "cell_type": "code",
   "execution_count": 8,
   "id": "0ef252d3-6763-4309-aa8d-7cd064fbc9e5",
   "metadata": {},
   "outputs": [],
   "source": [
    "comparer = pd.DataFrame({'gdr3':[gdr3MSPMS.shape[0]],\n",
    "                         'gdr3RV':[gdr3RVMSPMS.shape[0]],\n",
    "                         'gdr3pg':[gdr3pgMSPMS.shape[0]],\n",
    "                         'gdr3pgRV':[gdr3pgRVMSPMS.shape[0]],\n",
    "                         'MSPMSmatch':[MSPMSmatch.shape[0]],\n",
    "                         'MSPMSRVmatch':[MSPMSRVmatch.shape[0]]},index=['N'])"
   ]
  },
  {
   "cell_type": "code",
   "execution_count": 9,
   "id": "35051490-7591-422f-a6b4-aa744c3c2b57",
   "metadata": {},
   "outputs": [
    {
     "data": {
      "text/html": [
       "<div>\n",
       "<style scoped>\n",
       "    .dataframe tbody tr th:only-of-type {\n",
       "        vertical-align: middle;\n",
       "    }\n",
       "\n",
       "    .dataframe tbody tr th {\n",
       "        vertical-align: top;\n",
       "    }\n",
       "\n",
       "    .dataframe thead th {\n",
       "        text-align: right;\n",
       "    }\n",
       "</style>\n",
       "<table border=\"1\" class=\"dataframe\">\n",
       "  <thead>\n",
       "    <tr style=\"text-align: right;\">\n",
       "      <th></th>\n",
       "      <th>gdr3</th>\n",
       "      <th>gdr3RV</th>\n",
       "      <th>gdr3pg</th>\n",
       "      <th>gdr3pgRV</th>\n",
       "      <th>MSPMSmatch</th>\n",
       "      <th>MSPMSRVmatch</th>\n",
       "    </tr>\n",
       "  </thead>\n",
       "  <tbody>\n",
       "    <tr>\n",
       "      <th>N</th>\n",
       "      <td>1372445</td>\n",
       "      <td>603342</td>\n",
       "      <td>1456169</td>\n",
       "      <td>606586</td>\n",
       "      <td>1348303</td>\n",
       "      <td>603177</td>\n",
       "    </tr>\n",
       "  </tbody>\n",
       "</table>\n",
       "</div>"
      ],
      "text/plain": [
       "      gdr3  gdr3RV   gdr3pg  gdr3pgRV  MSPMSmatch  MSPMSRVmatch\n",
       "N  1372445  603342  1456169    606586     1348303        603177"
      ]
     },
     "execution_count": 9,
     "metadata": {},
     "output_type": "execute_result"
    }
   ],
   "source": [
    "comparer"
   ]
  },
  {
   "cell_type": "code",
   "execution_count": 32,
   "id": "4884b73c-0980-4fab-b0f0-d2bf948d23aa",
   "metadata": {},
   "outputs": [
    {
     "data": {
      "image/png": "[encoded data removed]",
      "text/plain": [
       "<Figure size 576x396 with 1 Axes>"
      ]
     },
     "metadata": {},
     "output_type": "display_data"
    }
   ],
   "source": [
    "MGbins=np.arange(-0.5,17.5,0.2)\n",
    "plt.hist(gdr3pgMSPMS.MG,bins=MGbins,histtype='stepfilled',color='grey',linewidth=0,label='GDR3PG MS and PMS');\n",
    "plt.hist(gdr3pgRVMSPMS.MG,bins=MGbins,histtype='stepfilled',color='blue',linewidth=0,label='GDR3PG MS and PMS with RVs');\n",
    "plt.hist(gdr3MSPMS.MG,bins=MGbins,histtype='step',color='red',linewidth=3,label=r'GDR3$\\varpi$ MS and PMS');\n",
    "plt.hist(gdr3RVMSPMS.MG,bins=MGbins,histtype='step',color='orange',linewidth=3,label=r'GDR3$\\varpi$ MS and PMS with RVs');\n",
    "plt.ylabel('N')\n",
    "plt.xlabel(r'$M_G$')\n",
    "plt.legend(loc=0, bbox_to_anchor=(0.7,0.5))\n",
    "plt.show()"
   ]
  },
  {
   "cell_type": "code",
   "execution_count": null,
   "id": "1e6bdf73-b4f0-413d-b455-7f1ba5745a43",
   "metadata": {},
   "outputs": [],
   "source": []
  }
 ],
 "metadata": {
  "kernelspec": {
   "display_name": "Python 3 (ipykernel)",
   "language": "python",
   "name": "python3"
  },
  "language_info": {
   "codemirror_mode": {
    "name": "ipython",
    "version": 3
   },
   "file_extension": ".py",
   "mimetype": "text/x-python",
   "name": "python",
   "nbconvert_exporter": "python",
   "pygments_lexer": "ipython3",
   "version": "3.10.9"
  }
 },
 "nbformat": 4,
 "nbformat_minor": 5
}
