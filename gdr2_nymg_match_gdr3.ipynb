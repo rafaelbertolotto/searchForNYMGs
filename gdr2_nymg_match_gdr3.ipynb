{
 "cells": [
  {
   "cell_type": "code",
   "execution_count": 1,
   "id": "4b84a923",
   "metadata": {},
   "outputs": [
    {
     "name": "stderr",
     "output_type": "stream",
     "text": [
      "/tmp/ipykernel_25339/4043846560.py:16: MatplotlibDeprecationWarning: The seaborn styles shipped by Matplotlib are deprecated since 3.6, as they no longer correspond to the styles shipped by seaborn. However, they will remain available as 'seaborn-v0_8-<style>'. Alternatively, directly use the seaborn API instead.\n",
      "  mpl.style.use(\"seaborn\")\n"
     ]
    }
   ],
   "source": [
    "import numpy as np\n",
    "import matplotlib.pyplot as plt\n",
    "import pandas as pd\n",
    "import matplotlib as mpl\n",
    "import seaborn as sns\n",
    "import warnings\n",
    "from scipy import interpolate\n",
    "from astropy import coordinates\n",
    "from astropy.coordinates import Galactic\n",
    "import astropy.units as u\n",
    "from astropy.time import Time\n",
    "from astropy.coordinates import SkyCoord\n",
    "from astropy.coordinates import match_coordinates_sky\n",
    "\n",
    "sns.set_context(\"talk\")\n",
    "mpl.style.use(\"seaborn\")\n",
    "sns.set_context(\"paper\",font_scale=1.5)\n",
    "sns.set_style(\"whitegrid\")\n",
    "warnings.filterwarnings(\"ignore\")"
   ]
  },
  {
   "cell_type": "markdown",
   "id": "e4231498",
   "metadata": {},
   "source": [
    "# Data loading"
   ]
  },
  {
   "cell_type": "code",
   "execution_count": 2,
   "id": "e833281f",
   "metadata": {},
   "outputs": [],
   "source": [
    "nymgs = pd.read_csv('input_cat/gagne+downes_norep_3arcsec.csv')\n",
    "gdr2  = pd.read_csv('input_cat/gaiadr2_200pc.csv',usecols=[\"source_id\",\n",
    "                                                         \"ra\",\n",
    "                                                         \"dec\",\n",
    "                                                         \"l\",\n",
    "                                                         \"b\",\n",
    "                                                         \"parallax\",\n",
    "                                                         \"parallax_error\",\n",
    "                                                         \"pmra\",\n",
    "                                                         \"pmdec\",\n",
    "                                                         \"radial_velocity\",\n",
    "                                                         \"radial_velocity_error\",\n",
    "                                                         \"phot_g_mean_flux\",\n",
    "                                                         \"phot_g_mean_flux_error\",\n",
    "                                                         \"phot_g_mean_mag\",\n",
    "                                                         \"phot_bp_mean_mag\",\n",
    "                                                         \"phot_rp_mean_mag\",\n",
    "                                                          \"pmra_error\",\n",
    "                                                          \"pmdec_error\"])\n",
    "gdr3  = pd.read_csv('input_cat/gaiaDR3_200pc.csv',usecols=[\"source_id\",\n",
    "                                                         \"ra\",\n",
    "                                                         \"dec\",\n",
    "                                                         \"l\",\n",
    "                                                         \"b\",\n",
    "                                                         \"parallax\",\n",
    "                                                         \"parallax_error\",\n",
    "                                                         \"pmra\",\n",
    "                                                         \"pmdec\",\n",
    "                                                         \"radial_velocity\",\n",
    "                                                         \"radial_velocity_error\",\n",
    "                                                         \"phot_g_mean_flux\",\n",
    "                                                         \"phot_g_mean_flux_error\",\n",
    "                                                         \"phot_g_mean_mag\",\n",
    "                                                         \"phot_bp_mean_mag\",\n",
    "                                                         \"phot_rp_mean_mag\"])\n",
    "\n",
    "gdr3RVMSPMS = pd.read_csv('builded_or_modified_cat/gdr3RVMSPMS.csv')\n",
    "\n",
    "gdr3MSPMS = pd.read_csv('builded_or_modified_cat/gdr3MSPMS.csv')"
   ]
  },
  {
   "cell_type": "code",
   "execution_count": 5,
   "id": "fce26772-62fd-4201-b3d7-9e721e71445e",
   "metadata": {},
   "outputs": [],
   "source": [
    "#Import the mocapy package\n",
    "from mocapy import *\n",
    "\n",
    "#Create a moca engine object\n",
    "moca = MocaEngine()\n",
    "\n",
    "#Query the moca database to obtain a Pandas DataFrame\n",
    "banyanObjects = moca.query(\"SELECT * FROM calc_banyan_sigma WHERE moca_aid='PL8'\")\n",
    "\n",
    "mocaObjects = moca.query(\"SELECT * FROM summary_all_objects WHERE moca_aid='PL8'\")"
   ]
  },
  {
   "cell_type": "code",
   "execution_count": null,
   "id": "f28dfc4b-9e87-4375-925b-87d2c0fe1983",
   "metadata": {},
   "outputs": [],
   "source": []
  },
  {
   "cell_type": "code",
   "execution_count": null,
   "id": "2855604a-71e8-4eca-8f4d-45978b3c2ef0",
   "metadata": {},
   "outputs": [],
   "source": []
  },
  {
   "cell_type": "code",
   "execution_count": null,
   "id": "4cd091ba-6898-49d5-a697-4166b0d6e13b",
   "metadata": {},
   "outputs": [],
   "source": []
  },
  {
   "cell_type": "code",
   "execution_count": null,
   "id": "67ced359-9178-4741-a78f-2317eb65237c",
   "metadata": {},
   "outputs": [],
   "source": []
  },
  {
   "cell_type": "code",
   "execution_count": null,
   "id": "036f247d-3fa6-43cf-adda-28877a857fd3",
   "metadata": {},
   "outputs": [],
   "source": []
  },
  {
   "cell_type": "code",
   "execution_count": null,
   "id": "70fb6afb-9239-47ed-9c6b-895b77ab9ca3",
   "metadata": {},
   "outputs": [],
   "source": []
  },
  {
   "cell_type": "code",
   "execution_count": null,
   "id": "62b1db65-b28d-47dd-a191-fe5041ae3250",
   "metadata": {},
   "outputs": [],
   "source": []
  },
  {
   "cell_type": "code",
   "execution_count": null,
   "id": "834d9001-d31b-48e7-ad59-3be905eac313",
   "metadata": {},
   "outputs": [],
   "source": []
  },
  {
   "cell_type": "code",
   "execution_count": null,
   "id": "1f6433e6-9cc5-470b-98fe-b317a95f5dc2",
   "metadata": {},
   "outputs": [],
   "source": []
  },
  {
   "cell_type": "code",
   "execution_count": null,
   "id": "21cc7121-e17f-478e-ad7a-d8551f256bf0",
   "metadata": {},
   "outputs": [],
   "source": []
  },
  {
   "cell_type": "code",
   "execution_count": null,
   "id": "cd0e0984-d6a8-4083-9451-22a236d7c2e7",
   "metadata": {},
   "outputs": [],
   "source": []
  },
  {
   "cell_type": "code",
   "execution_count": 10,
   "id": "317788c5-a766-466c-9878-0518ee682cbb",
   "metadata": {},
   "outputs": [],
   "source": [
    "banyanObjects = banyanObjects.set_index(banyanObjects.moca_oid).drop_duplicates('moca_oid')\n",
    "a             = a.set_index(a.moca_oid)\n",
    "a             = pd.concat([a,banyanObjects.ya_prob],axis=1,join='inner')"
   ]
  },
  {
   "cell_type": "code",
   "execution_count": 11,
   "id": "4885dac5-14bf-4ea0-9407-83af72375505",
   "metadata": {},
   "outputs": [],
   "source": [
    "a                   = a[['moca_aid','gaiadr3_source_id','ya_prob']]\n",
    "a.gaiadr3_source_id = pd.to_numeric(a.gaiadr3_source_id)\n",
    "a                   = a.set_index(a.gaiadr3_source_id)\n",
    "gdr3MSPMS           = gdr3MSPMS.set_index(gdr3MSPMS.source_id)\n",
    "gdr3                = gdr3.set_index(gdr3.source_id)"
   ]
  },
  {
   "cell_type": "code",
   "execution_count": 12,
   "id": "f8c2e022-9b83-477e-a848-41e836f820f7",
   "metadata": {},
   "outputs": [],
   "source": [
    "agdr3 = pd.concat([a[['moca_aid','ya_prob']],gdr3],axis=1,join='inner')"
   ]
  },
  {
   "cell_type": "code",
   "execution_count": 13,
   "id": "5d84bfd7-8e24-4256-8ba6-bbe230dd218d",
   "metadata": {},
   "outputs": [],
   "source": [
    "aMSPMS = pd.concat([a[['moca_aid','ya_prob']],gdr3MSPMS],axis=1,join='inner')"
   ]
  },
  {
   "cell_type": "code",
   "execution_count": 14,
   "id": "43e703c5-8056-4b8e-9f68-6c0d1e07d256",
   "metadata": {},
   "outputs": [
    {
     "data": {
      "text/plain": [
       "(17.0, 2.0)"
      ]
     },
     "execution_count": 14,
     "metadata": {},
     "output_type": "execute_result"
    },
    {
     "data": {
      "image/png": "[encoded data removed]",
      "text/plain": [
       "<Figure size 800x550 with 2 Axes>"
      ]
     },
     "metadata": {},
     "output_type": "display_data"
    }
   ],
   "source": [
    "plt.scatter(agdr3.phot_bp_mean_mag-agdr3.phot_rp_mean_mag,agdr3.phot_g_mean_mag+5-5*np.log10(1000/agdr3.parallax),c=agdr3.ya_prob,cmap='rainbow')\n",
    "# plt.scatter(aMSPMS.phot_bp_mean_mag-aMSPMS.phot_rp_mean_mag,aMSPMS.phot_g_mean_mag+5-5*np.log10(1000/aMSPMS.parallax),c=1000/aMSPMS.parallax,cmap='rainbow')\n",
    "plt.colorbar()\n",
    "plt.ylim(17,2)"
   ]
  },
  {
   "cell_type": "code",
   "execution_count": 15,
   "id": "1a675119-135b-4b22-bd95-b88da89a52d6",
   "metadata": {},
   "outputs": [
    {
     "data": {
      "text/plain": [
       "(17.0, 2.0)"
      ]
     },
     "execution_count": 15,
     "metadata": {},
     "output_type": "execute_result"
    },
    {
     "data": {
      "image/png": "[encoded data removed]",
      "text/plain": [
       "<Figure size 800x550 with 2 Axes>"
      ]
     },
     "metadata": {},
     "output_type": "display_data"
    }
   ],
   "source": [
    "plt.scatter(aMSPMS.phot_bp_mean_mag-aMSPMS.phot_rp_mean_mag,aMSPMS.phot_g_mean_mag+5-5*np.log10(1000/aMSPMS.parallax),c=aMSPMS.ya_prob,cmap='rainbow')\n",
    "plt.colorbar()\n",
    "plt.ylim(17,2)"
   ]
  },
  {
   "cell_type": "code",
   "execution_count": null,
   "id": "1624d040-689b-4a8a-8e6a-2e48c7abd4a3",
   "metadata": {},
   "outputs": [],
   "source": [
    "plt.scatter(aMSPMS.ya_prob,1000/aMSPMS.parallax,c=aMSPMS.phot_g_mean_mag+5-5*np.log10(1000/aMSPMS.parallax),cmap='viridis',vmin=8)\n",
    "plt.colorbar()"
   ]
  },
  {
   "cell_type": "code",
   "execution_count": 6,
   "id": "2fbe0192-2b08-4556-b30f-2da586a354b9",
   "metadata": {},
   "outputs": [
    {
     "ename": "NameError",
     "evalue": "name 'agdr3' is not defined",
     "output_type": "error",
     "traceback": [
      "\u001b[0;31m---------------------------------------------------------------------------\u001b[0m",
      "\u001b[0;31mNameError\u001b[0m                                 Traceback (most recent call last)",
      "Cell \u001b[0;32mIn[6], line 1\u001b[0m\n\u001b[0;32m----> 1\u001b[0m plt\u001b[38;5;241m.\u001b[39mscatter(\u001b[43magdr3\u001b[49m\u001b[38;5;241m.\u001b[39mya_prob,\u001b[38;5;241m1000\u001b[39m\u001b[38;5;241m/\u001b[39magdr3\u001b[38;5;241m.\u001b[39mparallax,c\u001b[38;5;241m=\u001b[39magdr3\u001b[38;5;241m.\u001b[39mradial_velocity_error\u001b[38;5;241m/\u001b[39magdr3\u001b[38;5;241m.\u001b[39mradial_velocity,cmap\u001b[38;5;241m=\u001b[39m\u001b[38;5;124m'\u001b[39m\u001b[38;5;124mviridis\u001b[39m\u001b[38;5;124m'\u001b[39m)\n\u001b[1;32m      2\u001b[0m plt\u001b[38;5;241m.\u001b[39mcolorbar()\n",
      "\u001b[0;31mNameError\u001b[0m: name 'agdr3' is not defined"
     ]
    }
   ],
   "source": [
    "plt.scatter(agdr3.ya_prob,1000/agdr3.parallax,c=agdr3.radial_velocity_error/agdr3.radial_velocity,cmap='viridis')\n",
    "plt.colorbar()"
   ]
  },
  {
   "cell_type": "code",
   "execution_count": 108,
   "id": "f0881bb6-4f04-48e7-a377-f8398b3b5e26",
   "metadata": {},
   "outputs": [
    {
     "data": {
      "text/plain": [
       "0.9089026915113871"
      ]
     },
     "execution_count": 108,
     "metadata": {},
     "output_type": "execute_result"
    }
   ],
   "source": [
    "amatch.shape[0]/a.shape[0]"
   ]
  },
  {
   "cell_type": "code",
   "execution_count": null,
   "id": "17d364e0-9945-4db2-bd29-542ac72460b9",
   "metadata": {},
   "outputs": [],
   "source": [
    "plt.scatter(a.g)"
   ]
  },
  {
   "cell_type": "code",
   "execution_count": 6,
   "id": "c2dbecbd-8bc2-4021-b033-4a1db662f43e",
   "metadata": {},
   "outputs": [
    {
     "ename": "NameError",
     "evalue": "name 'dsfvdfvbdfbdfb' is not defined",
     "output_type": "error",
     "traceback": [
      "\u001b[0;31m---------------------------------------------------------------------------\u001b[0m",
      "\u001b[0;31mNameError\u001b[0m                                 Traceback (most recent call last)",
      "Cell \u001b[0;32mIn[6], line 1\u001b[0m\n\u001b[0;32m----> 1\u001b[0m \u001b[43mdsfvdfvbdfbdfb\u001b[49m\n",
      "\u001b[0;31mNameError\u001b[0m: name 'dsfvdfvbdfbdfb' is not defined"
     ]
    }
   ],
   "source": [
    "dsfvdfvbdfbdfb"
   ]
  },
  {
   "cell_type": "code",
   "execution_count": null,
   "id": "d442ca3f-505b-475a-b8cb-61a0b998c3da",
   "metadata": {},
   "outputs": [],
   "source": [
    "df.plx"
   ]
  },
  {
   "cell_type": "code",
   "execution_count": null,
   "id": "8116c254-81cc-49c4-a55a-c78af0cc20c3",
   "metadata": {},
   "outputs": [],
   "source": [
    "df[(df.gaiadr2_source_id.isnull().values) | (df.gaiadr3_source_id.isnull().values)]"
   ]
  },
  {
   "cell_type": "code",
   "execution_count": null,
   "id": "94fa127e-a2fb-464a-9c02-15e959e2deff",
   "metadata": {},
   "outputs": [],
   "source": [
    "gagne = pd.read_csv('input_cat/Data.csv')"
   ]
  },
  {
   "cell_type": "code",
   "execution_count": null,
   "id": "f3a6f533-02e1-4078-beda-46fed7976ade",
   "metadata": {},
   "outputs": [],
   "source": [
    "gagne.columns"
   ]
  },
  {
   "cell_type": "code",
   "execution_count": null,
   "id": "578853fa-b6f7-4625-8cf1-d38b80167717",
   "metadata": {},
   "outputs": [],
   "source": [
    "gagne.designation"
   ]
  },
  {
   "cell_type": "markdown",
   "id": "a51e8647",
   "metadata": {},
   "source": [
    "# Sky Match between the NYMG catalogue and GDR2"
   ]
  },
  {
   "cell_type": "code",
   "execution_count": null,
   "id": "6f593830",
   "metadata": {},
   "outputs": [],
   "source": [
    "nymgsCoords = coordinates.ICRS(ra              = nymgs.RA.to_numpy()*u.degree,\n",
    "                               dec             = nymgs.DEC.to_numpy()*u.degree)\n",
    "gdr2Coords  = coordinates.ICRS(ra              = gdr2.ra.to_numpy()*u.degree,\n",
    "                               dec             = gdr2.dec.to_numpy()*u.degree)\n",
    "nymgsMatchGdr2 = match_coordinates_sky(nymgsCoords, gdr2Coords, nthneighbor=1, storekdtree=u'_kdtree_sky')\n",
    "nymgsMatchGdr2 = pd.DataFrame({'nymgRow':np.arange(0,len(nymgsMatchGdr2[0]),1),\n",
    "                               'gdr2Row':nymgsMatchGdr2[0],\n",
    "                               'angleSeparation':nymgsMatchGdr2[1]},index=nymgsMatchGdr2[0])\n",
    "\n",
    "rows = nymgsMatchGdr2.gdr2Row.unique()\n",
    "for i in np.arange(0,rows.shape[0],1):\n",
    "    row               = rows[i]\n",
    "    nymgsMatchGdr2Row = nymgsMatchGdr2[nymgsMatchGdr2.gdr2Row == row]\n",
    "    if nymgsMatchGdr2Row.shape[0] > 1:\n",
    "        rowToDrop = nymgsMatchGdr2Row[nymgsMatchGdr2Row.angleSeparation == nymgsMatchGdr2Row.angleSeparation.min()].gdr2Row.iloc[0]\n",
    "        nymgsMatchGdr2 = nymgsMatchGdr2.drop(rowToDrop)\n",
    "\n",
    "nymgsMatchGdr2 = pd.concat([nymgsMatchGdr2.nymgRow,gdr2],axis=1,join='inner').set_index(nymgsMatchGdr2.nymgRow)\n",
    "nymgsMatchGdr2 = pd.concat([nymgsMatchGdr2,nymgs[['ID','YNMG']]],axis=1,join='inner')"
   ]
  },
  {
   "cell_type": "markdown",
   "id": "23baa966",
   "metadata": {},
   "source": [
    "# Cartesian galactic coordinates calculations for the matched data (on GDR2)"
   ]
  },
  {
   "cell_type": "code",
   "execution_count": null,
   "id": "25f7662c",
   "metadata": {},
   "outputs": [],
   "source": [
    "newcols         = pd.DataFrame(np.zeros(shape=(nymgsMatchGdr2.shape[0],6)))\n",
    "newcols.columns = [\"X\",\"Y\",\"Z\",\"U\",\"V\",\"W\"]\n",
    "nymgsMatchGdr2  = nymgsMatchGdr2.reset_index(drop=True)\n",
    "newcols         = newcols.reset_index(drop=True)\n",
    "gog             = pd.concat([nymgsMatchGdr2,newcols],axis=1)\n",
    "\n",
    "icrs        = coordinates.ICRS(ra              = nymgsMatchGdr2[\"ra\"].to_numpy()*u.degree,\n",
    "                               dec             = nymgsMatchGdr2[\"dec\"].to_numpy()*u.degree,\n",
    "                               distance        = (1000/nymgsMatchGdr2[\"parallax\"]).to_numpy()*u.pc,\n",
    "                               pm_ra_cosdec    = nymgsMatchGdr2[\"pmra\"].to_numpy()*u.mas/u.yr,\n",
    "                               pm_dec          = nymgsMatchGdr2[\"pmdec\"].to_numpy()*u.mas/u.yr,\n",
    "                               radial_velocity = nymgsMatchGdr2[\"radial_velocity\"].to_numpy()*u.km/u.s)\n",
    "\n",
    "XYZUVW                 = icrs.transform_to(Galactic)\n",
    "nymgsMatchGdr2[\"X\"]    = pd.DataFrame(XYZUVW.cartesian.x)\n",
    "nymgsMatchGdr2[\"Y\"]    = pd.DataFrame(XYZUVW.cartesian.y)\n",
    "nymgsMatchGdr2[\"Z\"]    = pd.DataFrame(XYZUVW.cartesian.z)\n",
    "nymgsMatchGdr2[\"U\"]    = pd.DataFrame(XYZUVW.velocity.d_x)\n",
    "nymgsMatchGdr2[\"V\"]    = pd.DataFrame(XYZUVW.velocity.d_y)\n",
    "nymgsMatchGdr2[\"W\"]    = pd.DataFrame(XYZUVW.velocity.d_z)"
   ]
  },
  {
   "cell_type": "markdown",
   "id": "d3703af0",
   "metadata": {},
   "source": [
    "# Plots to check everything's ok"
   ]
  },
  {
   "cell_type": "code",
   "execution_count": null,
   "id": "d207bcc9",
   "metadata": {
    "tags": []
   },
   "outputs": [],
   "source": [
    "labels = nymgsMatchGdr2.YNMG.unique()\n",
    "for i in np.arange(0,len(labels),1):\n",
    "    label = labels[i]\n",
    "    nymg  = nymgsMatchGdr2[nymgsMatchGdr2.YNMG == label]\n",
    "    plt.scatter(nymg.X,nymg.Y,s=1)\n",
    "plt.show()"
   ]
  },
  {
   "cell_type": "markdown",
   "id": "89f30767",
   "metadata": {},
   "source": [
    "# Sky positions propagation through GDR2 proper motions"
   ]
  },
  {
   "cell_type": "code",
   "execution_count": null,
   "id": "79bb8cf5",
   "metadata": {},
   "outputs": [],
   "source": [
    "icrs = SkyCoord(ra=icrs.ra, dec=icrs.dec, distance=icrs.distance,\n",
    "              pm_ra_cosdec=icrs.pm_ra_cosdec, pm_dec=icrs.pm_dec,\n",
    "              frame='icrs',\n",
    "              obstime=Time('J2015.5'))\n",
    "icrs = icrs.apply_space_motion(new_obstime=Time('J2016.0'))"
   ]
  },
  {
   "cell_type": "markdown",
   "id": "aa762228",
   "metadata": {},
   "source": [
    "# Sky positions and galactic coordinates calculations for GDR3 epoch"
   ]
  },
  {
   "cell_type": "code",
   "execution_count": null,
   "id": "dbc92fde",
   "metadata": {},
   "outputs": [],
   "source": [
    "columns             = ['ra_gdr3Epoch',\n",
    "                       'dec_gdr3Epoch',\n",
    "                       'X_gdr3Epoch',\n",
    "                       'Y_gdr3Epoch',\n",
    "                       'Z_gdr3Epoch',\n",
    "                       'U_gdr3Epoch',\n",
    "                       'V_gdr3Epoch',\n",
    "                       'W_gdr3Epoch']\n",
    "\n",
    "newcols             = pd.DataFrame(np.zeros(shape=(nymgsMatchGdr2.shape[0],len(columns))),columns=columns).reset_index(drop=True)\n",
    "\n",
    "nymgsMatchGdr2      = nymgsMatchGdr2.reset_index(drop=True)\n",
    "gog                 = pd.concat([nymgsMatchGdr2,newcols],axis=1)\n",
    "\n",
    "\n",
    "XYZUVW                           = icrs.transform_to(Galactic)\n",
    "nymgsMatchGdr2[\"ra_gdr3Epoch\"]   = pd.DataFrame(icrs.ra)\n",
    "nymgsMatchGdr2[\"dec_gdr3Epoch\"]  = pd.DataFrame(icrs.dec)\n",
    "nymgsMatchGdr2[\"X_gdr3Epoch\"]    = pd.DataFrame(XYZUVW.cartesian.x)\n",
    "nymgsMatchGdr2[\"Y_gdr3Epoch\"]    = pd.DataFrame(XYZUVW.cartesian.y)\n",
    "nymgsMatchGdr2[\"Z_gdr3Epoch\"]    = pd.DataFrame(XYZUVW.cartesian.z)\n",
    "nymgsMatchGdr2[\"U_gdr3Epoch\"]    = pd.DataFrame(XYZUVW.velocity.d_x)\n",
    "nymgsMatchGdr2[\"V_gdr3Epoch\"]    = pd.DataFrame(XYZUVW.velocity.d_y)\n",
    "nymgsMatchGdr2[\"W_gdr3Epoch\"]    = pd.DataFrame(XYZUVW.velocity.d_z)"
   ]
  },
  {
   "cell_type": "markdown",
   "id": "f8a63f02",
   "metadata": {},
   "source": [
    "# More plots to check all is ok"
   ]
  },
  {
   "cell_type": "code",
   "execution_count": null,
   "id": "7149aa5f",
   "metadata": {
    "tags": []
   },
   "outputs": [],
   "source": [
    "labels = nymgsMatchGdr2.YNMG.unique()\n",
    "for i in np.arange(0,len(labels),1):\n",
    "    label = labels[i]\n",
    "    nymg  = nymgsMatchGdr2[nymgsMatchGdr2.YNMG == label]\n",
    "    plt.scatter(nymg.X_gdr3Epoch,nymg.Y_gdr3Epoch,s=1)\n",
    "plt.show()"
   ]
  },
  {
   "cell_type": "code",
   "execution_count": null,
   "id": "bb3d97b8",
   "metadata": {
    "tags": []
   },
   "outputs": [],
   "source": [
    "labels = nymgsMatchGdr2.YNMG.unique()\n",
    "for i in np.arange(0,len(labels),1):\n",
    "    label = labels[i]\n",
    "    nymg  = nymgsMatchGdr2[nymgsMatchGdr2.YNMG == label]\n",
    "    plt.scatter(nymg.ra,nymg.dec,s=1)\n",
    "plt.show()"
   ]
  },
  {
   "cell_type": "code",
   "execution_count": null,
   "id": "72f55720",
   "metadata": {
    "tags": []
   },
   "outputs": [],
   "source": [
    "labels = nymgsMatchGdr2.YNMG.unique()\n",
    "for i in np.arange(0,len(labels),1):\n",
    "    label = labels[i]\n",
    "    nymg  = nymgsMatchGdr2[nymgsMatchGdr2.YNMG == label]\n",
    "    plt.scatter(nymg.ra_gdr3Epoch,nymg.dec_gdr3Epoch,s=1)\n",
    "plt.show()"
   ]
  },
  {
   "cell_type": "markdown",
   "id": "a0b88685",
   "metadata": {},
   "source": [
    "# Sky matches between propagated GDR2 and GDR3"
   ]
  },
  {
   "cell_type": "code",
   "execution_count": null,
   "id": "2f23c8a0",
   "metadata": {},
   "outputs": [],
   "source": [
    "nymgsMatchGdr2Coords = coordinates.ICRS(ra              = nymgsMatchGdr2.ra_gdr3Epoch.to_numpy()*u.degree,\n",
    "                                        dec             = nymgsMatchGdr2.dec_gdr3Epoch.to_numpy()*u.degree)\n",
    "gdr3Coords  = coordinates.ICRS(ra              = gdr3.ra.to_numpy()*u.degree,\n",
    "                               dec             = gdr3.dec.to_numpy()*u.degree)\n",
    "\n",
    "nymgsMatchGdr3 = match_coordinates_sky(nymgsMatchGdr2Coords, gdr3Coords, nthneighbor=1, storekdtree=u'_kdtree_sky')\n",
    "\n",
    "nymgsMatchGdr3 = pd.DataFrame({'nymgsMatchGdr2Row':np.arange(0,len(nymgsMatchGdr3[0]),1),\n",
    "                               'gdr3Row':nymgsMatchGdr3[0],\n",
    "                               'angleSeparation':nymgsMatchGdr3[1]},index=nymgsMatchGdr3[0])\n",
    "\n",
    "rows = nymgsMatchGdr3.gdr3Row.unique()\n",
    "for i in np.arange(0,rows.shape[0],1):\n",
    "    row               = rows[i]\n",
    "    nymgsMatchGdr3Row = nymgsMatchGdr3[nymgsMatchGdr3.gdr3Row == row]\n",
    "    if nymgsMatchGdr3Row.shape[0] > 1:\n",
    "        rowToDrop = nymgsMatchGdr3Row[nymgsMatchGdr3Row.angleSeparation == nymgsMatchGdr3Row.angleSeparation.min()].gdr3Row.iloc[0]\n",
    "        nymgsMatchGdr3 = nymgsMatchGdr3.drop(rowToDrop)\n",
    "\n",
    "dr2ColumnsToKeep = ['ra_gdr3Epoch',\n",
    "                    'dec_gdr3Epoch',\n",
    "                    'X_gdr3Epoch',\n",
    "                    'Y_gdr3Epoch',\n",
    "                    'Z_gdr3Epoch',\n",
    "                    'U_gdr3Epoch',\n",
    "                    'V_gdr3Epoch',\n",
    "                    'W_gdr3Epoch',\n",
    "                    'YNMG',\n",
    "                    'pmra_error',\n",
    "                    'pmdec_error']\n",
    "\n",
    "nymgsMatchGdr3 = pd.concat([nymgsMatchGdr3.nymgsMatchGdr2Row,gdr3],axis=1,join='inner').set_index(nymgsMatchGdr3.nymgsMatchGdr2Row)\n",
    "nymgsMatchGdr3 = pd.concat([nymgsMatchGdr3.drop('nymgsMatchGdr2Row',axis=1),nymgsMatchGdr2[dr2ColumnsToKeep]],axis=1,join='inner')"
   ]
  },
  {
   "cell_type": "code",
   "execution_count": null,
   "id": "df1f75a0-51fd-4171-94e6-6cc6d889f52b",
   "metadata": {},
   "outputs": [],
   "source": [
    "nymgsMatchGdr3[nymgsMatchGdr3.source_id == 6108418181912503168].radial_velocity"
   ]
  },
  {
   "cell_type": "code",
   "execution_count": null,
   "id": "fba59965",
   "metadata": {
    "tags": []
   },
   "outputs": [],
   "source": [
    "labels = nymgsMatchGdr3.YNMG.unique()\n",
    "for i in np.arange(0,len(labels),1):\n",
    "    label = labels[i]\n",
    "    nymg  = nymgsMatchGdr3[nymgsMatchGdr3.YNMG == label]\n",
    "    plt.scatter(nymg.ra,nymg.dec,s=1,label=label)\n",
    "plt.legend()\n",
    "plt.show()"
   ]
  },
  {
   "cell_type": "code",
   "execution_count": null,
   "id": "8ce8dd47",
   "metadata": {},
   "outputs": [],
   "source": [
    "newcolumns = ['mu','mu_error','mu_over_error']\n",
    "\n",
    "mu       = np.sqrt(nymgsMatchGdr3.pmra**2+nymgsMatchGdr3.pmdec**2)\n",
    "mu_error = np.sqrt((nymgsMatchGdr3.pmra*nymgsMatchGdr3.pmra_error)**2+(nymgsMatchGdr3.pmdec*nymgsMatchGdr3.pmdec_error)**2)/mu\n",
    "mu_over_error = np.abs(mu_error/mu)\n",
    "\n",
    "muDataFrame = pd.DataFrame({'mu':mu,'mu_error':mu_error,'mu_over_error':mu_over_error})\n",
    "\n",
    "nymgsMatchGdr3 = pd.concat([nymgsMatchGdr3,muDataFrame],axis=1,join='inner')"
   ]
  },
  {
   "cell_type": "code",
   "execution_count": null,
   "id": "d429f10f-504c-4a5b-a831-4ef1e1b54558",
   "metadata": {},
   "outputs": [],
   "source": [
    "nymgsMatchGdr3[nymgsMatchGdr3.source_id == 6108418181912503168].radial_velocity"
   ]
  },
  {
   "cell_type": "code",
   "execution_count": null,
   "id": "77f42671",
   "metadata": {},
   "outputs": [],
   "source": [
    "plt.hist(nymgsMatchGdr3.mu_over_error,bins=np.arange(0,1,0.1),log=True);\n",
    "plt.xlim(0,1);\n",
    "plt.xlabel(r'$\\sigma_{\\mu}/\\mu$');\n",
    "plt.ylabel(r'$N$');\n",
    "plt.show();"
   ]
  },
  {
   "cell_type": "code",
   "execution_count": null,
   "id": "5b757785",
   "metadata": {},
   "outputs": [],
   "source": [
    "plt.hist(nymgsMatchGdr3.mu_error,bins=np.arange(0,10,1),log=True);\n",
    "#plt.xlim(0,1);\n",
    "plt.xlabel(r'$\\sigma_{\\mu}[°]$');\n",
    "plt.ylabel(r'$N$');\n",
    "plt.show();"
   ]
  },
  {
   "cell_type": "code",
   "execution_count": null,
   "id": "23de2496",
   "metadata": {},
   "outputs": [],
   "source": [
    "plt.scatter(nymgsMatchGdr3.ra-nymgsMatchGdr3.ra_gdr3Epoch,\n",
    "            nymgsMatchGdr3.dec-nymgsMatchGdr3.dec_gdr3Epoch,s=15,\n",
    "            c=nymgsMatchGdr3.mu_over_error,\n",
    "            cmap='viridis',\n",
    "            vmin=0,\n",
    "            vmax=1)\n",
    "plt.colorbar()\n",
    "# plt.xlim(-0.00001,0.00001)\n",
    "# plt.ylim(-0.00001,0.00001)\n",
    "plt.xlabel(r'$\\Delta\\alpha[°]$')\n",
    "plt.ylabel(r'$\\Delta\\delta[°]$')\n",
    "plt.savefig('nymgsDeltaSkyPositionsMatch.png',bbox_inches='tight')"
   ]
  },
  {
   "cell_type": "code",
   "execution_count": null,
   "id": "08ec400b",
   "metadata": {},
   "outputs": [],
   "source": [
    "nymgsMatchGdr3Filtered = nymgsMatchGdr3[nymgsMatchGdr3.mu_over_error<=0.1]\n",
    "\n",
    "plt.scatter(nymgsMatchGdr3Filtered.ra-nymgsMatchGdr3Filtered.ra_gdr3Epoch,\n",
    "            nymgsMatchGdr3Filtered.dec-nymgsMatchGdr3Filtered.dec_gdr3Epoch,s=10,\n",
    "            c=np.abs(nymgsMatchGdr3Filtered.parallax_error/nymgsMatchGdr3Filtered.parallax),\n",
    "            cmap='viridis')\n",
    "plt.colorbar()\n",
    "# plt.xlim(-0.00001,0.00001)\n",
    "# plt.ylim(-0.00001,0.00001)\n",
    "plt.xlabel(r'$\\Delta\\alpha[°]$')\n",
    "plt.ylabel(r'$\\Delta\\delta[°]$')\n",
    "plt.savefig('nymgsDeltaSkyPositionsMatch.png',bbox_inches='tight')"
   ]
  },
  {
   "cell_type": "code",
   "execution_count": null,
   "id": "2737e221",
   "metadata": {},
   "outputs": [],
   "source": [
    "nymgsMatchGdr3Filtered.shape[0]/nymgsMatchGdr3.shape[0]"
   ]
  },
  {
   "cell_type": "code",
   "execution_count": null,
   "id": "539edcee",
   "metadata": {},
   "outputs": [],
   "source": [
    "nymgsMatchGdr3Filtered = nymgsMatchGdr3Filtered[np.abs(nymgsMatchGdr3Filtered.parallax_error/nymgsMatchGdr3Filtered.parallax)<=0.1]\n",
    "\n",
    "plt.scatter(nymgsMatchGdr3Filtered.ra-nymgsMatchGdr3Filtered.ra_gdr3Epoch,\n",
    "            nymgsMatchGdr3Filtered.dec-nymgsMatchGdr3Filtered.dec_gdr3Epoch,s=10,\n",
    "            c=np.abs(nymgsMatchGdr3Filtered.mu),\n",
    "            cmap='viridis',\n",
    "            vmax=100)\n",
    "plt.colorbar()\n",
    "# plt.xlim(-0.00001,0.00001)\n",
    "# plt.ylim(-0.00001,0.00001)\n",
    "plt.xlabel(r'$\\Delta\\alpha[°]$')\n",
    "plt.ylabel(r'$\\Delta\\delta[°]$')\n",
    "plt.savefig('nymgsDeltaSkyPositionsMatch.png',bbox_inches='tight')"
   ]
  },
  {
   "cell_type": "code",
   "execution_count": null,
   "id": "c2b3ff8c",
   "metadata": {},
   "outputs": [],
   "source": [
    "nymgsMatchGdr3Filtered = nymgsMatchGdr3Filtered[np.abs(nymgsMatchGdr3Filtered.mu_error)<=1]\n",
    "\n",
    "plt.scatter(nymgsMatchGdr3Filtered.ra-nymgsMatchGdr3Filtered.ra_gdr3Epoch,\n",
    "            nymgsMatchGdr3Filtered.dec-nymgsMatchGdr3Filtered.dec_gdr3Epoch,s=10,\n",
    "            c=np.abs(nymgsMatchGdr3Filtered.mu),\n",
    "            cmap='viridis',\n",
    "            vmax=100)\n",
    "plt.colorbar()\n",
    "# plt.xlim(-0.00001,0.00001)\n",
    "# plt.ylim(-0.00001,0.00001)\n",
    "plt.xlabel(r'$\\Delta\\alpha[°]$')\n",
    "plt.ylabel(r'$\\Delta\\delta[°]$')\n",
    "plt.savefig('nymgsDeltaSkyPositionsMatch.png',bbox_inches='tight')"
   ]
  },
  {
   "cell_type": "code",
   "execution_count": null,
   "id": "25ba0719",
   "metadata": {},
   "outputs": [],
   "source": [
    "nymgsMatchGdr3Filtered.shape[0]/nymgsMatchGdr3.shape[0]"
   ]
  },
  {
   "cell_type": "code",
   "execution_count": null,
   "id": "f9932948",
   "metadata": {
    "tags": []
   },
   "outputs": [],
   "source": [
    "for i in np.arange(0,len(labels),1):\n",
    "    label = labels[i]\n",
    "    nymg = nymgsMatchGdr3[nymgsMatchGdr3.YNMG == label]\n",
    "    print(f'{label}: {nymg.shape[0]}')"
   ]
  },
  {
   "cell_type": "code",
   "execution_count": null,
   "id": "6b4837ea",
   "metadata": {},
   "outputs": [],
   "source": [
    "nymgChosen = ['BPMG','COL','OCT','PL8','THA']\n",
    "colors     = ['red','blue','green','orange','purple']\n",
    "\n",
    "plt.scatter(nymgsMatchGdr2.ra,nymgsMatchGdr2.dec,s=5,color='grey')\n",
    "for i in np.arange(0,len(nymgChosen),1):\n",
    "    label = nymgChosen[i]\n",
    "    nymg = nymgsMatchGdr3[nymgsMatchGdr2.YNMG == label]\n",
    "    plt.scatter(nymg.ra,nymg.dec,s=10,color=colors[i],label=f'{label}: {nymg.shape[0]}')\n",
    "plt.xlabel(r'$\\alpha_{DR2}[°]$')\n",
    "plt.ylabel(r'$\\delta_{DR2}[°]$')\n",
    "plt.legend(bbox_to_anchor=(1.,1.03,0.,0.),fontsize=10)\n",
    "plt.savefig('nymgsDR2AlphaDelta.png',bbox_inches='tight')\n",
    "plt.show()"
   ]
  },
  {
   "cell_type": "code",
   "execution_count": null,
   "id": "3425cfb7",
   "metadata": {},
   "outputs": [],
   "source": [
    "plt.scatter(nymgsMatchGdr2.pmra,nymgsMatchGdr2.pmdec,s=5,color='grey')\n",
    "for i in np.arange(0,len(nymgChosen),1):\n",
    "    label = nymgChosen[i]\n",
    "    nymg = nymgsMatchGdr2[nymgsMatchGdr2.YNMG == label]\n",
    "    plt.scatter(nymg.pmra,nymg.pmdec,s=10,color=colors[i],label=f'{label}: {nymg.shape[0]}')\n",
    "plt.legend(bbox_to_anchor=(1.,0.75,0.,0.),fontsize=10)\n",
    "plt.xlabel(r'$\\mu_{\\alpha}^{DR2}[mas/yr]$')\n",
    "plt.ylabel(r'$\\mu_{\\delta}^{DR2}[mas/yr]$')\n",
    "plt.xlim(-100,200)\n",
    "plt.ylim(-200,100)\n",
    "plt.savefig('nymgsDR2MuAlphaDelta.png',bbox_inches='tight')\n",
    "plt.show()"
   ]
  },
  {
   "cell_type": "code",
   "execution_count": null,
   "id": "380e770c",
   "metadata": {},
   "outputs": [],
   "source": [
    "nymgChosen = ['BPMG','COL','OCT','PL8','THA']\n",
    "nymgAges   = [24,42,35,60,45]\n",
    "colors     = ['red','blue','green','orange','purple']\n",
    "\n",
    "plt.scatter(nymgsMatchGdr3.ra,nymgsMatchGdr3.dec,s=5,color='grey')\n",
    "for i in np.arange(0,len(nymgChosen),1):\n",
    "    label = nymgChosen[i]\n",
    "    nymg = nymgsMatchGdr3[nymgsMatchGdr3.YNMG == label]\n",
    "    plt.scatter(nymg.ra,nymg.dec,s=10,color=colors[i],label=f'{label}: {nymg.shape[0]}')\n",
    "plt.xlabel(r'$\\alpha_{DR3}[°]$')\n",
    "plt.ylabel(r'$\\delta_{DR3}[°]$')\n",
    "plt.legend(bbox_to_anchor=(1.,1.03,0.,0.),fontsize=10)\n",
    "plt.savefig('nymgsDR3AlphaDelta.png',bbox_inches='tight')\n",
    "plt.show()"
   ]
  },
  {
   "cell_type": "code",
   "execution_count": null,
   "id": "4d0416df",
   "metadata": {},
   "outputs": [],
   "source": [
    "plt.scatter(nymgsMatchGdr3.pmra,nymgsMatchGdr3.pmdec,s=5,color='grey')\n",
    "for i in np.arange(0,len(nymgChosen),1):\n",
    "    label = nymgChosen[i]\n",
    "    nymg = nymgsMatchGdr3[nymgsMatchGdr3.YNMG == label]\n",
    "    plt.scatter(nymg.pmra,nymg.pmdec,s=10,color=colors[i],label=f'{label}: {nymg.shape[0]}')\n",
    "plt.legend(bbox_to_anchor=(1.,0.75,0.,0.),fontsize=10)\n",
    "plt.xlabel(r'$\\mu_{\\alpha}^{DR3}[mas/yr]$')\n",
    "plt.ylabel(r'$\\mu_{\\delta}^{DR3}[mas/yr]$')\n",
    "plt.xlim(-100,200)\n",
    "plt.ylim(-200,100)\n",
    "plt.savefig('nymgsDR3MuAlphaDelta.png',bbox_inches='tight')\n",
    "plt.show()"
   ]
  },
  {
   "cell_type": "code",
   "execution_count": null,
   "id": "c8bd06ea-9e96-420d-9a4c-0a3998029f99",
   "metadata": {},
   "outputs": [],
   "source": [
    "conditionNymgChosen = False\n",
    "for i in np.arange(0,len(nymgChosen),1):\n",
    "    conditionNymgChosen = conditionNymgChosen | (nymgsMatchGdr3.YNMG == nymgChosen[i])\n",
    "finalNymgs = nymgsMatchGdr3[conditionNymgChosen]\n",
    "finalNymgs = finalNymgs.set_index(finalNymgs.source_id)"
   ]
  },
  {
   "cell_type": "code",
   "execution_count": null,
   "id": "f0f1c4ba-8e23-442d-9f27-ae3ccd9b2f74",
   "metadata": {},
   "outputs": [],
   "source": [
    "nymgs"
   ]
  },
  {
   "cell_type": "code",
   "execution_count": null,
   "id": "22c4bb12-78a8-408b-88b8-c385a86091fa",
   "metadata": {},
   "outputs": [],
   "source": [
    "finalNymgs"
   ]
  },
  {
   "cell_type": "code",
   "execution_count": null,
   "id": "911372c9-c080-406e-9548-0fb86c6ba2e4",
   "metadata": {},
   "outputs": [],
   "source": [
    "nymgsMatchGdr3 = nymgsMatchGdr3.set_index(nymgsMatchGdr3.source_id)\n",
    "gdr3RVMSPMS = gdr3RVMSPMS.set_index(gdr3RVMSPMS.source_id)\n",
    "\n",
    "rvMatch = pd.concat([nymgsMatchGdr3,gdr3RVMSPMS],axis=1,join='inner')"
   ]
  },
  {
   "cell_type": "code",
   "execution_count": null,
   "id": "396930e8-59d5-47a6-8b17-602509793c70",
   "metadata": {},
   "outputs": [],
   "source": [
    "gdr3MSPMS = gdr3MSPMS.set_index(gdr3MSPMS.source_id)\n",
    "finalNymgsMatch = pd.concat([finalNymgs.YNMG,gdr3MSPMS],axis=1,join='inner')"
   ]
  },
  {
   "cell_type": "code",
   "execution_count": null,
   "id": "2388a03f-c6be-4af7-9f71-fd5140352660",
   "metadata": {},
   "outputs": [],
   "source": [
    "statsColumns    = ['NYMG','age','realN','observedN','stdX','stdY','stdZ','stdU','stdV','stdW']\n",
    "finalNymgsStats = pd.DataFrame(np.zeros([len(nymgChosen),len(statsColumns)]),columns=statsColumns)"
   ]
  },
  {
   "cell_type": "code",
   "execution_count": null,
   "id": "038cf390-0eb3-4987-a0b1-98ad98ea1e81",
   "metadata": {},
   "outputs": [],
   "source": [
    "\n",
    "gdr3RVMSPMS       = gdr3RVMSPMS.set_index(gdr3RVMSPMS.source_id)\n",
    "\n",
    "finalNymgsRVMatch = pd.concat([finalNymgsMatch[['YNMG']],gdr3RVMSPMS],axis=1,join='inner')"
   ]
  },
  {
   "cell_type": "code",
   "execution_count": null,
   "id": "cb2eb177-69a4-40ae-a88a-8bcbb66f0ffa",
   "metadata": {},
   "outputs": [],
   "source": [
    "for i in np.arange(0,len(nymgChosen),1):\n",
    "    nymg = finalNymgsRVMatch[finalNymgsRVMatch.YNMG == nymgChosen[i]]\n",
    "    finalNymgsStats.NYMG.iloc[i] = nymgChosen[i]\n",
    "    finalNymgsStats.realN.iloc[i] = nymgsMatchGdr3[nymgsMatchGdr3.YNMG == nymgChosen[i]].shape[0]\n",
    "    finalNymgsStats.observedN.iloc[i] = nymg.shape[0]\n",
    "    finalNymgsStats.age.iloc[i] = nymgAges[i]\n",
    "        \n",
    "finalNymgsStats"
   ]
  },
  {
   "cell_type": "markdown",
   "id": "24ca80a1-8088-4c4d-9af1-5a63f6abb689",
   "metadata": {},
   "source": [
    "# Sigma clipping aplication to the desired NYMGs"
   ]
  },
  {
   "cell_type": "code",
   "execution_count": null,
   "id": "0ef45e9f-fd6f-4e8d-b756-d11dcab516c1",
   "metadata": {},
   "outputs": [],
   "source": [
    "def sigmaClippingSelector(nymg,n,columns):\n",
    "    for i in np.arange(0,len(columns),1):\n",
    "        nymg = nymg[nymg[columns[i]]**2-nymg[columns[i]].median()**2 <= (n*nymg[columns[i]].std())**2]\n",
    "    return nymg"
   ]
  },
  {
   "cell_type": "code",
   "execution_count": null,
   "id": "ce2011e3-e30a-47df-96d2-243486dd20b0",
   "metadata": {
    "tags": []
   },
   "outputs": [],
   "source": [
    "names = finalNymgsStats.NYMG\n",
    "for i in np.arange(0,len(names),1):\n",
    "    name = names[i]\n",
    "    nymg = finalNymgsMatch[finalNymgsMatch.YNMG == name]\n",
    "    plt.scatter(nymg.BR,nymg.MG)\n",
    "    plt.ylim(15,-1)\n",
    "    plt.show()\n",
    "    plt.scatter(nymg.U,nymg.V)\n",
    "    nymg = sigmaClippingSelector(nymg,2,['X','Y','Z','U','V','W'])\n",
    "    plt.scatter(nymg.U,nymg.V)\n",
    "    plt.xlim(-200,200)\n",
    "    plt.ylim(-200,200)\n",
    "    plt.show()\n",
    "    plt.scatter(nymg.BR,nymg.MG)\n",
    "    plt.ylim(15,-1)\n",
    "    plt.show()\n",
    "    for j in np.arange(4,len(statsColumns),1):\n",
    "        finalNymgsStats[statsColumns[j]].iloc[i] = nymg[statsColumns[j][3]].std()"
   ]
  },
  {
   "cell_type": "code",
   "execution_count": null,
   "id": "4d1e24a9-3c4c-47fa-8d3c-0540c4bdf389",
   "metadata": {},
   "outputs": [],
   "source": [
    "import mass_photometry_tools as massPhoto\n",
    "bpmg = nymgsMatchGdr3[nymgsMatchGdr3.YNMG == 'BPMG']\n",
    "bpmg['MG'] = bpmg.phot_g_mean_mag+5-5*np.log10(1000/bpmg.parallax)\n",
    "bpmg['BR'] = bpmg.phot_bp_mean_mag-bpmg.phot_rp_mean_mag\n",
    "bpmgiso = massPhoto.isochroneSelector(data           = bpmg,\n",
    "                                                      age            = 20000000.0,\n",
    "                                                      deltaMag       =  [1e6,0.5],\n",
    "                                                      dataMagName    = 'MG',\n",
    "                                                      dataColorNames = ['phot_bp_mean_mag','phot_rp_mean_mag'])\n",
    "\n",
    "bpmg.to_csv('BPMG.csv',index=False)\n",
    "bpmgiso.to_csv('BPMG_20.csv',index=False)"
   ]
  },
  {
   "cell_type": "code",
   "execution_count": null,
   "id": "838e6a75-ecea-4e20-921d-78e110830100",
   "metadata": {},
   "outputs": [],
   "source": [
    "finalNymgsStats"
   ]
  },
  {
   "cell_type": "code",
   "execution_count": null,
   "id": "0b97661f",
   "metadata": {},
   "outputs": [],
   "source": [
    "nymgsMatchGdr3.to_csv('nymgs_gdr3_match.csv',index=False)\n",
    "\n",
    "finalNymgsStats.to_csv('statsForSyntheticNymgs.csv',index=False)"
   ]
  }
 ],
 "metadata": {
  "kernelspec": {
   "display_name": "Python 3 (ipykernel)",
   "language": "python",
   "name": "python3"
  },
  "language_info": {
   "codemirror_mode": {
    "name": "ipython",
    "version": 3
   },
   "file_extension": ".py",
   "mimetype": "text/x-python",
   "name": "python",
   "nbconvert_exporter": "python",
   "pygments_lexer": "ipython3",
   "version": "3.11.3"
  }
 },
 "nbformat": 4,
 "nbformat_minor": 5
}
